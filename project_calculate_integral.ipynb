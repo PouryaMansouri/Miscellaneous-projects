{
  "nbformat": 4,
  "nbformat_minor": 0,
  "metadata": {
    "colab": {
      "name": "project_calculate_integral.ipynb",
      "provenance": [],
      "collapsed_sections": [],
      "authorship_tag": "ABX9TyPncCGmwCFMwwo0/TTlh4p5",
      "include_colab_link": true
    },
    "kernelspec": {
      "name": "python3",
      "display_name": "Python 3"
    }
  },
  "cells": [
    {
      "cell_type": "markdown",
      "metadata": {
        "id": "view-in-github",
        "colab_type": "text"
      },
      "source": [
        "<a href=\"https://colab.research.google.com/github/PouryaMansouri/Miscellaneous-projects/blob/master/project_calculate_integral.ipynb\" target=\"_parent\"><img src=\"https://colab.research.google.com/assets/colab-badge.svg\" alt=\"Open In Colab\"/></a>"
      ]
    },
    {
      "cell_type": "markdown",
      "metadata": {
        "id": "Cy-wjiU2izRe"
      },
      "source": [
        "First we import the required libraries"
      ]
    },
    {
      "cell_type": "code",
      "metadata": {
        "id": "caR3uFiBOBqC"
      },
      "source": [
        "import pandas as pd\r\n",
        "import xlrd\r\n",
        "import matplotlib.pyplot as plt\r\n",
        "import numpy as np\r\n",
        "from sklearn.metrics import auc\r\n",
        "import sympy as sp"
      ],
      "execution_count": 1,
      "outputs": []
    },
    {
      "cell_type": "markdown",
      "metadata": {
        "id": "PATcZ_QqkMiG"
      },
      "source": [
        "we upload the file in file.io\r\n",
        "and open it with pandas "
      ]
    },
    {
      "cell_type": "code",
      "metadata": {
        "id": "lPdnD7dLjQ_v"
      },
      "source": [
        "df = pd.read_excel('https://file.io/nAt5NPuKX7ts',dtype={\"Eng.Strain\":float,\"Eng.Stress\":float})"
      ],
      "execution_count": 3,
      "outputs": []
    },
    {
      "cell_type": "markdown",
      "metadata": {
        "id": "teMtFX7WkYtA"
      },
      "source": [
        "check the head of the file"
      ]
    },
    {
      "cell_type": "code",
      "metadata": {
        "colab": {
          "base_uri": "https://localhost:8080/"
        },
        "id": "e1XVf_BQkDqK",
        "outputId": "b7039189-ca47-48cf-a9ae-13882d98be8c"
      },
      "source": [
        "df.head"
      ],
      "execution_count": 4,
      "outputs": [
        {
          "output_type": "execute_result",
          "data": {
            "text/plain": [
              "<bound method NDFrame.head of      Eng.Strain  Eng.Stress\n",
              "0      0.003250   15.617647\n",
              "1      0.006513   37.003676\n",
              "2      0.009763   57.613971\n",
              "3      0.013025   77.470588\n",
              "4      0.016275   96.819853\n",
              "..          ...         ...\n",
              "468    1.526687   43.801471\n",
              "469    1.529950   43.783088\n",
              "470    1.533200   43.801471\n",
              "471    1.536463   43.801471\n",
              "472    1.539713   43.801471\n",
              "\n",
              "[473 rows x 2 columns]>"
            ]
          },
          "metadata": {
            "tags": []
          },
          "execution_count": 4
        }
      ]
    },
    {
      "cell_type": "markdown",
      "metadata": {
        "id": "IAtkxqGzkjqH"
      },
      "source": [
        "Extract columns"
      ]
    },
    {
      "cell_type": "code",
      "metadata": {
        "id": "ZSxNiNV0kdzv"
      },
      "source": [
        "x = df[\"Eng.Strain\"].tolist()\r\n",
        "y = df[\"Eng.Stress\"].tolist()"
      ],
      "execution_count": 5,
      "outputs": []
    },
    {
      "cell_type": "markdown",
      "metadata": {
        "id": "r4vzo2gek4YC"
      },
      "source": [
        "x and y are list, we change them to array , because we want to use them in numpy"
      ]
    },
    {
      "cell_type": "code",
      "metadata": {
        "id": "WzeXYmPJk1_Y"
      },
      "source": [
        "arr_x = np.array(x)\r\n",
        "arr_y = np.array(y)"
      ],
      "execution_count": 6,
      "outputs": []
    },
    {
      "cell_type": "code",
      "metadata": {
        "colab": {
          "base_uri": "https://localhost:8080/",
          "height": 312
        },
        "id": "LLwDQB3U-C6Y",
        "outputId": "fd0d6862-98ff-444c-ea5b-fddca4621aa9"
      },
      "source": [
        "plt.plot(arr_x,arr_y)\n",
        "plt.ylabel(\"Eng.Stress\")\n",
        "plt.xlabel(\"Eng.Strain\")\n",
        "plt.title(\"project\")"
      ],
      "execution_count": 11,
      "outputs": [
        {
          "output_type": "execute_result",
          "data": {
            "text/plain": [
              "Text(0.5, 1.0, 'project')"
            ]
          },
          "metadata": {
            "tags": []
          },
          "execution_count": 11
        },
        {
          "output_type": "display_data",
          "data": {
            "image/png": "[encoded data removed]",
            "text/plain": [
              "<Figure size 432x288 with 1 Axes>"
            ]
          },
          "metadata": {
            "tags": [],
            "needs_background": "light"
          }
        }
      ]
    },
    {
      "cell_type": "code",
      "metadata": {
        "colab": {
          "base_uri": "https://localhost:8080/",
          "height": 312
        },
        "id": "o1OvPQS7-Lkz",
        "outputId": "f93e8593-b386-4b0e-faac-6c902b9d3f7e"
      },
      "source": [
        "plt.plot(arr_x,arr_y,'ro')\n",
        "plt.ylabel(\"Eng.Stress\")\n",
        "plt.xlabel(\"Eng.Strain\")\n",
        "plt.title(\"project\")"
      ],
      "execution_count": 13,
      "outputs": [
        {
          "output_type": "execute_result",
          "data": {
            "text/plain": [
              "Text(0.5, 1.0, 'project')"
            ]
          },
          "metadata": {
            "tags": []
          },
          "execution_count": 13
        },
        {
          "output_type": "display_data",
          "data": {
            "image/png": "[encoded data removed]",
            "text/plain": [
              "<Figure size 432x288 with 1 Axes>"
            ]
          },
          "metadata": {
            "tags": [],
            "needs_background": "light"
          }
        }
      ]
    },
    {
      "cell_type": "markdown",
      "metadata": {
        "id": "EL6FgryxmgAR"
      },
      "source": [
        "Area 1\r\n",
        "\r\n",
        "\r\n",
        "x1 to x8\r\n",
        "\r\n",
        "\r\n",
        "y1 to y8\r\n",
        "\r\n"
      ]
    },
    {
      "cell_type": "markdown",
      "metadata": {
        "id": "vm9PFmMrtOjE"
      },
      "source": [
        "The first solution use sympy library"
      ]
    },
    {
      "cell_type": "code",
      "metadata": {
        "id": "gPEOodyVmfY1"
      },
      "source": [
        "arr_x_area1 = arr_x[:8]\r\n",
        "arr_y_area1 = arr_y[:8]"
      ],
      "execution_count": null,
      "outputs": []
    },
    {
      "cell_type": "markdown",
      "metadata": {
        "id": "H1ffUJR3rDG-"
      },
      "source": [
        ".\r\n",
        "\r\n",
        "\r\n",
        "f(x)=mx (y = m*x)\r\n",
        "\r\n",
        "\r\n",
        "m = (y2 - y1) / (x2 - x1)\r\n",
        "\r\n",
        "m\t=\tslope\r\n",
        "\r\n",
        "(x1, y1)\t=\tcoordinates of first point in the line\r\n",
        "\r\n",
        "(x2, y2)\t=\tcoordinates of second point in the line\r\n"
      ]
    },
    {
      "cell_type": "code",
      "metadata": {
        "colab": {
          "base_uri": "https://localhost:8080/"
        },
        "id": "d7e8JP84rbal",
        "outputId": "b9bf4ef0-fbd2-46cf-cbb7-eede305b8a15"
      },
      "source": [
        "x1 = arr_x_area1[0]\r\n",
        "y1 = arr_y_area1[0]\r\n",
        "\r\n",
        "x2 = arr_x_area1[7]\r\n",
        "y2 = arr_y_area1[7]\r\n",
        "\r\n",
        "m = (y2-y1)/(x2-x1)\r\n",
        "\r\n",
        "print(\"(x1,y1): (\",x1,\",\",y1,\")\")\r\n",
        "print(\"(x2,y2): (\",x2,\",\",y2,\")\")\r\n",
        "print(\"m: \",m)"
      ],
      "execution_count": null,
      "outputs": [
        {
          "output_type": "stream",
          "text": [
            "(x1,y1): ( 0.00325 , 15.617647058823527 )\n",
            "(x2,y2): ( 0.0260375 , 148.05147058823528 )\n",
            "m:  5811.687264044398\n"
          ],
          "name": "stdout"
        }
      ]
    },
    {
      "cell_type": "markdown",
      "metadata": {
        "id": "ycEuIKmpr_4R"
      },
      "source": [
        "so f(x) for area 1  ==> y = 5811.687264044398 * x\r\n"
      ]
    },
    {
      "cell_type": "code",
      "metadata": {
        "colab": {
          "base_uri": "https://localhost:8080/"
        },
        "id": "n_D2uwcYswVx",
        "outputId": "14cf4303-af0b-4a45-f242-6e75b9818354"
      },
      "source": [
        "x = sp.Symbol(\"x\")\r\n",
        "print(\"Integral of region1 with sympy : {}\".format(sp.integrate(x*m, (x, arr_x_area1[0],arr_x_area1[7]))))"
      ],
      "execution_count": null,
      "outputs": [
        {
          "output_type": "stream",
          "text": [
            "Integral of region1 with sympy : 1.93932780330882\n"
          ],
          "name": "stdout"
        }
      ]
    },
    {
      "cell_type": "markdown",
      "metadata": {
        "id": "AUbmnyjQtV85"
      },
      "source": [
        "The second solution use sklearn library"
      ]
    },
    {
      "cell_type": "code",
      "metadata": {
        "colab": {
          "base_uri": "https://localhost:8080/"
        },
        "id": "cd3knKBlnCjd",
        "outputId": "c0980e28-cc6c-431e-afde-eb8040e73bf5"
      },
      "source": [
        "print('Integral of region1 with sklearn (auc) : {}'.format(auc(arr_x_area1,arr_y_area1)))"
      ],
      "execution_count": null,
      "outputs": [
        {
          "output_type": "stream",
          "text": [
            "Integral of region1 with sklearn (auc) : 1.9475637408088236\n"
          ],
          "name": "stdout"
        }
      ]
    },
    {
      "cell_type": "markdown",
      "metadata": {
        "id": "KZIAWhHImfPB"
      },
      "source": [
        "Integral total:"
      ]
    },
    {
      "cell_type": "code",
      "metadata": {
        "colab": {
          "base_uri": "https://localhost:8080/"
        },
        "id": "S2-CxS6MlHQY",
        "outputId": "7a2cee63-85bb-401e-ba8e-d2d924679cbc"
      },
      "source": [
        "print('Integral total: {}'.format(auc(arr_x,arr_y)))"
      ],
      "execution_count": null,
      "outputs": [
        {
          "output_type": "stream",
          "text": [
            "Integral total: 326.33694443933825\n"
          ],
          "name": "stdout"
        }
      ]
    }
  ]
}